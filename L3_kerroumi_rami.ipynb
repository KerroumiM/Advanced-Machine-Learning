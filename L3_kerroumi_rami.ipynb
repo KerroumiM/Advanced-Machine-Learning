{
 "cells": [
  {
   "cell_type": "markdown",
   "metadata": {},
   "source": [
    "# Lab 3: Stochastic Gradient Descent"
   ]
  },
  {
   "cell_type": "markdown",
   "metadata": {},
   "source": [
    "The goal of this lab session is to code an optimization algorithm that optimzes the penalized loss function of the logistic regression model.\n",
    "\n",
    "You have to send the filled notebook named **\"L3_familyname1_familyname2.ipynb\"** (groups of 2) by email to aml.centralesupelec.2019@gmail.com by October 17, 2019. Please put **\"AML-L3\"** in the subject. \n",
    "\n",
    "We begin with the standard imports:"
   ]
  },
  {
   "cell_type": "code",
   "execution_count": 106,
   "metadata": {},
   "outputs": [],
   "source": [
    "%matplotlib inline\n",
    "import matplotlib.pyplot as plt\n",
    "import seaborn as sns; sns.set()\n",
    "import numpy as np\n",
    "import pandas as pd"
   ]
  },
  {
   "cell_type": "markdown",
   "metadata": {},
   "source": [
    "We import the dataset that we are going to use, an indian dataset including in the last column information about the diabetes status of patients:"
   ]
  },
  {
   "cell_type": "code",
   "execution_count": 107,
   "metadata": {},
   "outputs": [],
   "source": [
    "from sklearn import model_selection\n",
    "\n",
    "diabetes_data = pd.read_csv(\"diabetes_data.csv\", sep=\",\")\n",
    "\n",
    "diabetes_train, diabetes_test = model_selection.train_test_split(diabetes_data)\n",
    "diabetes_train_x = diabetes_train.iloc[:, :-1].values\n",
    "diabetes_train_y = diabetes_train.iloc[:, -1].values\n",
    "diabetes_train_y[diabetes_train_y == 0] = -1\n",
    "\n",
    "diabetes_test_x = diabetes_test.iloc[:, :-1].values\n",
    "diabetes_test_y = diabetes_test.iloc[:, -1].values\n",
    "diabetes_test_y[diabetes_test_y == 0] = -1"
   ]
  },
  {
   "cell_type": "markdown",
   "metadata": {},
   "source": [
    "## Logistic Regression\n",
    "\n"
   ]
  },
  {
   "cell_type": "markdown",
   "metadata": {},
   "source": [
    "Today we’ll be moving from linear regression to logistic regression, one of the simplest ways to deal with a classification problem. Instead of fitting a line, logistic regression models the probability that the outcome is 1 given the value of the predictor. In order to do this we need a function that transforms our predictor variable to a value between 0 and 1. Lots of functions can do that, but the logistic function is the most common choice:\n",
    "\n",
    "$$f(z) = \\frac{1}{1+\\exp{-z}}.$$\n",
    "\n",
    "To predict the class of our observations we'll have to minimize the corresponding loss function and as we are in a high-dimensional context we'll add an $l_2$ regularization to the model:\n",
    "\n",
    "$$L(\\textbf{w}) = \\sum_{i=1}^n log(1+\\exp(-y_i\\textbf{w}^Tx_i))+\\frac{\\lambda}{2} \\| \\textbf{w} \\|^2,$$\n",
    "\n",
    "where $x_i$ is the vector of features for the observation $i$ and $y_i \\in \\{-1, 1\\}$ is the class label.  \n"
   ]
  },
  {
   "cell_type": "markdown",
   "metadata": {},
   "source": [
    "We first use the `sklearn` implementation:"
   ]
  },
  {
   "cell_type": "code",
   "execution_count": 108,
   "metadata": {},
   "outputs": [
    {
     "name": "stderr",
     "output_type": "stream",
     "text": [
      "/home/hrami/anaconda3/lib/python3.7/site-packages/sklearn/linear_model/logistic.py:432: FutureWarning: Default solver will be changed to 'lbfgs' in 0.22. Specify a solver to silence this warning.\n",
      "  FutureWarning)\n"
     ]
    }
   ],
   "source": [
    "from sklearn.linear_model import LogisticRegression\n",
    "model = LogisticRegression(penalty=\"l2\", C=2) \n",
    "model.fit(diabetes_train_x, diabetes_train_y)\n",
    "y_pred = model.predict(diabetes_test_x)"
   ]
  },
  {
   "cell_type": "markdown",
   "metadata": {},
   "source": [
    "and we compute the accuracy score to evaluate the model performance:"
   ]
  },
  {
   "cell_type": "code",
   "execution_count": 109,
   "metadata": {},
   "outputs": [
    {
     "data": {
      "text/plain": [
       "0.6979166666666666"
      ]
     },
     "execution_count": 109,
     "metadata": {},
     "output_type": "execute_result"
    }
   ],
   "source": [
    "from sklearn.metrics import accuracy_score\n",
    "accuracy_score(diabetes_test_y, y_pred)"
   ]
  },
  {
   "cell_type": "code",
   "execution_count": 110,
   "metadata": {},
   "outputs": [],
   "source": [
    "X=diabetes_train_x\n",
    "Y=diabetes_train_y"
   ]
  },
  {
   "cell_type": "code",
   "execution_count": 111,
   "metadata": {},
   "outputs": [],
   "source": [
    "from sklearn import preprocessing\n",
    "normalized_X = preprocessing.normalize(X)"
   ]
  },
  {
   "cell_type": "markdown",
   "metadata": {},
   "source": [
    "### Assignment\n",
    "\n",
    "Implement from scratch your own logistic regression model with stochastic gradient descent optimization. \n",
    "\n",
    "- Fill in the class\n",
    "\n",
    "- Display the evolution of the cost function along iterations. Do this for several strategies for the setting of the learning rate\n",
    "\n",
    "- Try the different acceleration strategies\n",
    "\n",
    "- Train the model with the training set and evaluate its performance in the test set"
   ]
  },
  {
   "cell_type": "markdown",
   "metadata": {},
   "source": [
    "In the next section we'll implement the Gradient descent (The cost function include all the points)"
   ]
  },
  {
   "cell_type": "code",
   "execution_count": 112,
   "metadata": {},
   "outputs": [],
   "source": [
    "class LogisticRegression_GD():\n",
    "    \"\"\" Class for logistic regression:\n",
    "    \n",
    "    Attributes:\n",
    "    -----------\n",
    "    coef_: 1-dimensional np.array\n",
    "        coefficients \n",
    "    alpha_: float\n",
    "        regularization parameter\n",
    "    lr_: float\n",
    "        the learning rate\n",
    "    bsize: integer\n",
    "        the size of the mini-batch >=1\n",
    "    coef_history_: list\n",
    "        the list of all visited betas\n",
    "    f_history_: list \n",
    "        the list of all evaluations in visited betas\n",
    "    \"\"\"\n",
    "    def __init__(self):\n",
    "        self.coef_  = None\n",
    "        self.lr_     = None\n",
    "        self.bsize_  = None\n",
    "        self.coef_history_ = []\n",
    "        self.f_history_ = []\n",
    "\n",
    "    def logistic(self, z):\n",
    "        # logistic function\n",
    "        return(1/(1+np.exp(-z)))\n",
    "    def fit(self, X, y, lr=1.5e-07,  max_iter=5000,alpha=2):\n",
    "        \"\"\" Fit the data (X, y).\n",
    "    \n",
    "        Parameters:\n",
    "        -----------\n",
    "        X: (num_samples, num_features) np.array\n",
    "            Design matrix\n",
    "        y: (num_sampes, ) np.array\n",
    "            Output vector\n",
    "        \n",
    "        Note:\n",
    "        -----\n",
    "        Updates self.coef_\n",
    "        \"\"\"        \n",
    "        #alpha=self.alpha_\n",
    "        w= np.random.rand(np.shape(X)[1],1)\n",
    "        def f_lr(beta):\n",
    "            '''evaluate the Cost Function'''\n",
    "            return(np.sum(np.log(1+np.exp(-y*np.dot(X,beta))))+ 0.5* alpha* (np.linalg.norm(beta)**2))\n",
    "        def grad(X,y,w):\n",
    "            dw=0\n",
    "            for i in range (575):\n",
    "                ex=np.exp(-y[i]*np.dot(w.T,X[:,i]))\n",
    "                fi=-y[i]*ex/(1+ex)*X[:,i] \n",
    "                dw+=fi\n",
    "            dw=dw.reshape(w.shape)\n",
    "            dw+=w\n",
    "            return dw\n",
    "        for i in range(max_iter):\n",
    "            self.f_history_.append(f_lr(w))\n",
    "            self.coef_history_.append(w)\n",
    "            grad_F= grad(X.T,y,w)\n",
    "            w=w- lr * grad_F\n",
    "        self.coef_= w\n",
    "\n",
    "            \n",
    "         \n",
    "    def predict(self, X):\n",
    "        \"\"\" Make binary predictions for data X.\n",
    "    \n",
    "        Parameters:\n",
    "        -----------\n",
    "        X: (num_samples, num_features) np.array\n",
    "            Design matrix\n",
    "        \n",
    "        Returns:\n",
    "        -----\n",
    "        y_pred: (num_samples, ) np.array\n",
    "            Predictions (0 or 1)\n",
    "        \"\"\"\n",
    "        return(np.sign(np.dot(X,self.coef_)))"
   ]
  },
  {
   "cell_type": "code",
   "execution_count": 113,
   "metadata": {},
   "outputs": [],
   "source": [
    "model=LogisticRegression_GD()\n",
    "model.fit(X,Y)"
   ]
  },
  {
   "cell_type": "code",
   "execution_count": 114,
   "metadata": {},
   "outputs": [
    {
     "name": "stdout",
     "output_type": "stream",
     "text": [
      "GD -training accuracy 0.6939130434782609\n",
      "GD -testing accuracy 0.6197916666666666\n"
     ]
    },
    {
     "data": {
      "image/png": "[encoded data removed]",
      "text/plain": [
       "<Figure size 720x720 with 1 Axes>"
      ]
     },
     "metadata": {},
     "output_type": "display_data"
    }
   ],
   "source": [
    "y_pred= model.predict(X)\n",
    "print('GD -training accuracy',accuracy_score(Y, y_pred))\n",
    "y_pred= model.predict(diabetes_test_x)\n",
    "print('GD -testing accuracy',accuracy_score(diabetes_test_y, y_pred))\n",
    "\n",
    "x = np.arange(5000)\n",
    "y = model.f_history_\n",
    "plt.figure(figsize=(10,10))\n",
    "plt.plot(x, y)\n",
    "plt.xlabel(\"Number of Iteration\")\n",
    "plt.ylabel(\"Cost Function\")\n",
    "plt.show()"
   ]
  },
  {
   "cell_type": "markdown",
   "metadata": {},
   "source": [
    "### Influence of alpha"
   ]
  },
  {
   "cell_type": "markdown",
   "metadata": {},
   "source": [
    "The regularization parameter reduces the variance of the estimated regression parameters. But, there is a bias that is added to the estimate."
   ]
  },
  {
   "cell_type": "code",
   "execution_count": 46,
   "metadata": {},
   "outputs": [
    {
     "name": "stdout",
     "output_type": "stream",
     "text": [
      "GD -training accuracy - alpha=0.1 0.6521739130434783\n",
      "GD -testing accuracy- alpha=0.1 0.640625\n",
      "GD -training accuracy - alpha=0.5 0.6034782608695652\n",
      "GD -testing accuracy- alpha=0.5 0.5833333333333334\n",
      "GD -training accuracy - alpha=1 0.5826086956521739\n",
      "GD -testing accuracy- alpha=1 0.5520833333333334\n",
      "GD -training accuracy - alpha=1.5 0.5634782608695652\n",
      "GD -testing accuracy- alpha=1.5 0.5104166666666666\n",
      "GD -training accuracy - alpha=2 0.5895652173913043\n",
      "GD -testing accuracy- alpha=2 0.5625\n"
     ]
    }
   ],
   "source": [
    "histories=[]\n",
    "for alpha in [0.1,0.5,1,1.5,2]:\n",
    "    model=LogisticRegression_GD()\n",
    "    model.fit(X,Y,alpha=alpha)\n",
    "    y_pred= model.predict(X)\n",
    "    print('GD -training accuracy - alpha={}'.format(alpha),accuracy_score(Y, y_pred))\n",
    "    y_pred= model.predict(diabetes_test_x)\n",
    "    print('GD -testing accuracy- alpha={}'.format(alpha),accuracy_score(diabetes_test_y, y_pred))\n",
    "    histories.append(model.f_history_)"
   ]
  },
  {
   "cell_type": "code",
   "execution_count": 48,
   "metadata": {},
   "outputs": [
    {
     "data": {
      "image/png": "[encoded data removed]",
      "text/plain": [
       "<Figure size 720x720 with 1 Axes>"
      ]
     },
     "metadata": {
      "needs_background": "light"
     },
     "output_type": "display_data"
    }
   ],
   "source": [
    "alphas=[0.1,0.5,1,1.5,2]\n",
    "plt.figure(figsize=(10,10))\n",
    "for i in range(len(histories)):\n",
    "    x = np.arange(1000)\n",
    "    y = histories[i]\n",
    "    plt.plot(x, y,label='{}'.format(alphas[i]))\n",
    "    plt.legend()\n",
    "    plt.xlabel(\"Number of Iteration\")\n",
    "    plt.ylabel(\"Cost Function\")\n",
    "plt.show()"
   ]
  },
  {
   "cell_type": "markdown",
   "metadata": {},
   "source": [
    "In the next section, we'll implement the Stochastic Gradient Descent (Only one element in the cost function)"
   ]
  },
  {
   "cell_type": "code",
   "execution_count": 56,
   "metadata": {},
   "outputs": [],
   "source": [
    "class StochasticLogisticRegression():\n",
    "    \"\"\" Class for logistic regression:\n",
    "    \n",
    "    Attributes:\n",
    "    -----------\n",
    "    coef_: 1-dimensional np.array\n",
    "        coefficients \n",
    "    alpha_: float\n",
    "        regularization parameter\n",
    "    lr_: float\n",
    "        the learning rate\n",
    "    bsize: integer\n",
    "        the size of the mini-batch >=1\n",
    "    coef_history_: list\n",
    "        the list of all visited betas\n",
    "    f_history_: list \n",
    "        the list of all evaluations in visited betas\n",
    "    \"\"\"\n",
    "    def __init__(self, alpha=0.2):\n",
    "        self.coef_  = None\n",
    "        self.alpha_ = alpha\n",
    "        self.lr_     = None\n",
    "        self.bsize_  = None\n",
    "        self.coef_history_ = []\n",
    "        self.f_history_ = []\n",
    "\n",
    "    def logistic(self, z):\n",
    "        # logistic function\n",
    "        return(1/(1+np.exp(-z)))\n",
    "    def fit(self, X, y, lr=1.5e-04,  max_iter=10000):\n",
    "        \"\"\" Fit the data (X, y).\n",
    "    \n",
    "        Parameters:\n",
    "        -----------\n",
    "        X: (num_samples, num_features) np.array\n",
    "            Design matrix\n",
    "        y: (num_sampes, ) np.array\n",
    "            Output vector\n",
    "        \n",
    "        Note:\n",
    "        -----\n",
    "        Updates self.coef_\n",
    "        \"\"\"        \n",
    "        alpha=self.alpha_\n",
    "        w= np.random.rand(np.shape(X)[1],1)\n",
    "        def f_lr(beta):\n",
    "            '''evaluate the Cost Function'''\n",
    "            return(np.sum(np.log(1+np.exp(-y*np.dot(X,beta))))+ 0.5* alpha* (np.linalg.norm(beta)**2))\n",
    "        def grad(x,y,w):\n",
    "            return(np.expand_dims(-y*(1-self.logistic(y*np.dot(x,w)))*x, axis=1) + alpha*w)\n",
    "        for i in range(max_iter):\n",
    "            self.f_history_.append(f_lr(w))\n",
    "            for j in range(len(X)):\n",
    "                self.coef_history_.append(w)\n",
    "                grad_F= grad(X[j], Y[j],w)\n",
    "                w=w- lr * grad_F\n",
    "        self.coef_= w\n",
    "\n",
    "            \n",
    "         \n",
    "    def predict(self, X):\n",
    "        \"\"\" Make binary predictions for data X.\n",
    "    \n",
    "        Parameters:\n",
    "        -----------\n",
    "        X: (num_samples, num_features) np.array\n",
    "            Design matrix\n",
    "        \n",
    "        Returns:\n",
    "        -----\n",
    "        y_pred: (num_samples, ) np.array\n",
    "            Predictions (0 or 1)\n",
    "        \"\"\"\n",
    "        return(np.sign(np.dot(X,self.coef_)))"
   ]
  },
  {
   "cell_type": "code",
   "execution_count": 59,
   "metadata": {},
   "outputs": [
    {
     "name": "stdout",
     "output_type": "stream",
     "text": [
      "training accuracy 0.6504347826086957\n",
      "testing accuracy 0.6458333333333334\n"
     ]
    },
    {
     "data": {
      "image/png": "[encoded data removed]",
      "text/plain": [
       "<Figure size 720x720 with 1 Axes>"
      ]
     },
     "metadata": {
      "needs_background": "light"
     },
     "output_type": "display_data"
    }
   ],
   "source": [
    "model=StochasticLogisticRegression()\n",
    "max_iter=500\n",
    "model.fit(X,Y, max_iter=max_iter)\n",
    "model.predict(X)\n",
    "y_pred= model.predict(X)\n",
    "print('training accuracy',accuracy_score(Y, y_pred))\n",
    "y_pred= model.predict(diabetes_test_x)\n",
    "print('testing accuracy',accuracy_score(diabetes_test_y, y_pred))\n",
    "\n",
    "x = np.arange(max_iter)\n",
    "y = model.f_history_\n",
    "plt.figure(figsize=(10,10))\n",
    "plt.plot(x, y)\n",
    "plt.xlabel(\"Number of Iteration\")\n",
    "plt.ylabel(\"Cost Function\")\n",
    "plt.show()"
   ]
  },
  {
   "cell_type": "markdown",
   "metadata": {},
   "source": [
    "The algorithm need less iterations to converge, but the accuracy is slightly lower than the accuracy of the GD.\n"
   ]
  },
  {
   "cell_type": "markdown",
   "metadata": {},
   "source": [
    "Now we will try the averaging method and choose lr=C*t**(-1)"
   ]
  },
  {
   "cell_type": "code",
   "execution_count": 115,
   "metadata": {},
   "outputs": [],
   "source": [
    "class StochasticLogisticRegression_averaging():\n",
    "    \"\"\" Class for logistic regression:\n",
    "    \n",
    "    Attributes:\n",
    "    -----------\n",
    "    coef_: 1-dimensional np.array\n",
    "        coefficients \n",
    "    alpha_: float\n",
    "        regularization parameter\n",
    "    lr_: float\n",
    "        the learning rate\n",
    "    bsize: integer\n",
    "        the size of the mini-batch >=1\n",
    "    coef_history_: list\n",
    "        the list of all visited betas\n",
    "    f_history_: list \n",
    "        the list of all evaluations in visited betas\n",
    "    \"\"\"\n",
    "    def __init__(self, alpha=0.2):\n",
    "        self.coef_  = None\n",
    "        self.alpha_ = alpha\n",
    "        self.lr_     = None\n",
    "        self.bsize_  = None\n",
    "        self.coef_history_ = []\n",
    "        self.f_history_ = []\n",
    "\n",
    "    def logistic(self, z):\n",
    "        # logistic function\n",
    "        return(1/(1+np.exp(-z)))\n",
    "    def fit(self, X, y, lr=0.1,  max_iter=10000):\n",
    "        \"\"\" Fit the data (X, y).\n",
    "    \n",
    "        Parameters:\n",
    "        -----------\n",
    "        X: (num_samples, num_features) np.array\n",
    "            Design matrix\n",
    "        y: (num_sampes, ) np.array\n",
    "            Output vector\n",
    "        \n",
    "        Note:\n",
    "        -----\n",
    "        Updates self.coef_\n",
    "        \"\"\"        \n",
    "        alpha=self.alpha_\n",
    "        w= np.random.rand(np.shape(X)[1],1)\n",
    "        def f_lr(beta):\n",
    "            '''evaluate the Cost Function'''\n",
    "            return(np.sum(np.log(1+np.exp(-y*np.dot(X,beta))))+ 0.5* alpha* (np.linalg.norm(beta)**2))\n",
    "        def grad(x,y,w):\n",
    "            return(np.expand_dims(-y*(1-self.logistic(y*np.dot(x,w)))*x, axis=1) + alpha*w)\n",
    "        for i in range(max_iter):\n",
    "            ws=[]\n",
    "            self.f_history_.append(f_lr(w))\n",
    "            for j in range(len(X)):\n",
    "                self.coef_history_.append(w)\n",
    "                grad_F= grad(X[j], Y[j],w)\n",
    "                w=w- lr* (i+1)**(-1) * grad_F\n",
    "                ws.append(w)\n",
    "            w=np.array(ws).mean(axis=0)\n",
    "            self.coef_history_.append(w)\n",
    "        self.coef_= w\n",
    "\n",
    "            \n",
    "         \n",
    "    def predict(self, X):\n",
    "        \"\"\" Make binary predictions for data X.\n",
    "    \n",
    "        Parameters:\n",
    "        -----------\n",
    "        X: (num_samples, num_features) np.array\n",
    "            Design matrix\n",
    "        \n",
    "        Returns:\n",
    "        -----\n",
    "        y_pred: (num_samples, ) np.array\n",
    "            Predictions (0 or 1)\n",
    "        \"\"\"\n",
    "        return(np.sign(np.dot(X,self.coef_)))"
   ]
  },
  {
   "cell_type": "code",
   "execution_count": 116,
   "metadata": {
    "scrolled": false
   },
   "outputs": [
    {
     "name": "stdout",
     "output_type": "stream",
     "text": [
      "training accuracy 0.7234782608695652\n",
      "testing accuracy 0.6145833333333334\n"
     ]
    },
    {
     "data": {
      "image/png": "[encoded data removed]",
      "text/plain": [
       "<Figure size 720x720 with 1 Axes>"
      ]
     },
     "metadata": {},
     "output_type": "display_data"
    }
   ],
   "source": [
    "model=StochasticLogisticRegression_averaging()\n",
    "max_iter=1000\n",
    "model.fit(X,Y, max_iter=max_iter)\n",
    "model.predict(X)\n",
    "y_pred= model.predict(X)\n",
    "print('training accuracy',accuracy_score(Y, y_pred))\n",
    "y_pred= model.predict(diabetes_test_x)\n",
    "print('testing accuracy',accuracy_score(diabetes_test_y, y_pred))\n",
    "\n",
    "x = np.arange(max_iter)\n",
    "y = model.f_history_\n",
    "plt.figure(figsize=(10,10))\n",
    "plt.plot(x, y)\n",
    "plt.xlabel(\"Number of Iteration\")\n",
    "plt.ylabel(\"Cost Function\")\n",
    "plt.show()"
   ]
  },
  {
   "cell_type": "markdown",
   "metadata": {},
   "source": [
    "We can notice that the cost oscilate over iteration until the learning rate goes under some treshold"
   ]
  },
  {
   "cell_type": "markdown",
   "metadata": {},
   "source": [
    "In the next section, we'll implement the Batch Gradient Descent (Batch of ponits are used in the cost function)"
   ]
  },
  {
   "cell_type": "code",
   "execution_count": 117,
   "metadata": {},
   "outputs": [],
   "source": [
    "class BatchLogisticRegression():\n",
    "    \"\"\" Class for logistic regression:\n",
    "    \n",
    "    Attributes:\n",
    "    -----------\n",
    "    coef_: 1-dimensional np.array\n",
    "        coefficients \n",
    "    alpha_: float\n",
    "        regularization parameter\n",
    "    lr_: float\n",
    "        the learning rate\n",
    "    bsize: integer\n",
    "        the size of the mini-batch >=1\n",
    "    coef_history_: list\n",
    "        the list of all visited betas\n",
    "    f_history_: list \n",
    "        the list of all evaluations in visited betas\n",
    "    \"\"\"\n",
    "    def __init__(self, alpha=0.2):\n",
    "        self.coef_  = None\n",
    "        self.alpha_ = alpha\n",
    "        self.lr_     = None\n",
    "        self.bsize_  = None\n",
    "        self.coef_history_ = []\n",
    "        self.f_history_ = []\n",
    "\n",
    "    def logistic(self, z):\n",
    "        # logistic function\n",
    "        return(1/(1+np.exp(-z)))\n",
    "    def fit(self, X, y, lr=1.5e-06, bsize=25,  max_iter=10000):\n",
    "        \"\"\" Fit the data (X, y).\n",
    "    \n",
    "        Parameters:\n",
    "        -----------\n",
    "        X: (num_samples, num_features) np.array\n",
    "            Design matrix\n",
    "        y: (num_sampes, ) np.array\n",
    "            Output vector\n",
    "        \n",
    "        Note:\n",
    "        -----\n",
    "        Updates self.coef_\n",
    "        \"\"\"        \n",
    "        alpha=self.alpha_\n",
    "        w= np.random.rand(np.shape(X)[1],1)\n",
    "        def f_lr(beta):\n",
    "            '''evaluate the Cost Function'''\n",
    "            return(np.sum(np.log(1+np.exp(-y*np.dot(X,beta))))+ 0.5* alpha* (np.linalg.norm(beta)**2))\n",
    "        def grad(X,y,w,bsize=bsize):\n",
    "            dw=0\n",
    "            for i in range (bsize):\n",
    "                ex=np.exp(-y[i]*np.dot(w.T,X[:,i]))\n",
    "                fi=-y[i]*ex/(1+ex)*X[:,i] \n",
    "                dw+=fi\n",
    "            dw=dw.reshape(w.shape)\n",
    "            dw+=w\n",
    "            return dw\n",
    "        for i in range(max_iter):\n",
    "            self.f_history_.append(f_lr(w))\n",
    "            for j in range( len(X)//bsize ):\n",
    "                self.coef_history_.append(w)\n",
    "                grad_F= grad((X.T[:,j*bsize: (j+1)*bsize]), Y[j*bsize: (j+1)*bsize],w)\n",
    "                w=w- lr * grad_F\n",
    "        self.coef_= w\n",
    "\n",
    "            \n",
    "         \n",
    "    def predict(self, X):\n",
    "        \"\"\" Make binary predictions for data X.\n",
    "    \n",
    "        Parameters:\n",
    "        -----------\n",
    "        X: (num_samples, num_features) np.array\n",
    "            Design matrix\n",
    "        \n",
    "        Returns:\n",
    "        -----\n",
    "        y_pred: (num_samples, ) np.array\n",
    "            Predictions (0 or 1)\n",
    "        \"\"\"\n",
    "        return(np.sign(np.dot(X,self.coef_)))"
   ]
  },
  {
   "cell_type": "code",
   "execution_count": 74,
   "metadata": {},
   "outputs": [
    {
     "name": "stdout",
     "output_type": "stream",
     "text": [
      "training accuracy 0.7078260869565217\n",
      "testing accuracy 0.6614583333333334\n",
      "training accuracy 0.6921739130434783\n",
      "testing accuracy 0.671875\n"
     ]
    },
    {
     "data": {
      "image/png": "[encoded data removed]",
      "text/plain": [
       "<Figure size 720x720 with 1 Axes>"
      ]
     },
     "metadata": {
      "needs_background": "light"
     },
     "output_type": "display_data"
    }
   ],
   "source": [
    "plt.figure(figsize=(10,10))\n",
    "model=BatchLogisticRegression()\n",
    "max_iter=1000\n",
    "model.fit(X,Y, max_iter=max_iter)\n",
    "model.predict(X)\n",
    "y_pred= model.predict(X)\n",
    "print('training accuracy',accuracy_score(Y, y_pred))\n",
    "y_pred= model.predict(diabetes_test_x)\n",
    "print('testing accuracy',accuracy_score(diabetes_test_y, y_pred))\n",
    "\n",
    "x = np.arange(max_iter)\n",
    "y = model.f_history_\n",
    "plt.plot(x, y, label=\"batch size =25\")\n",
    "\n",
    "model=BatchLogisticRegression()\n",
    "max_iter=1000\n",
    "x = np.arange(max_iter)\n",
    "model.fit(X,Y, bsize=115 , max_iter = max_iter)\n",
    "y_pred= model.predict(X)\n",
    "print('training accuracy',accuracy_score(Y, y_pred))\n",
    "y_pred= model.predict(diabetes_test_x)\n",
    "print('testing accuracy',accuracy_score(diabetes_test_y, y_pred))\n",
    "y1 = model.f_history_\n",
    "plt.plot(x, y1, label=\"batch size = 115\")\n",
    "plt.xlabel(\"Number of Iteration\")\n",
    "plt.ylabel(\"Cost Function\")\n",
    "plt.legend()\n",
    "plt.show()"
   ]
  },
  {
   "cell_type": "markdown",
   "metadata": {},
   "source": [
    "we can notice that smaller the batch size the more quickly the algorithm converges"
   ]
  },
  {
   "cell_type": "markdown",
   "metadata": {},
   "source": [
    "In the next section, we will implement a Batch Gradient Descent with Momentum"
   ]
  },
  {
   "cell_type": "code",
   "execution_count": 119,
   "metadata": {},
   "outputs": [],
   "source": [
    "class MomentumLogisticRegression():\n",
    "    \"\"\" Class for logistic regression:\n",
    "    \n",
    "    Attributes:\n",
    "    -----------\n",
    "    coef_: 1-dimensional np.array\n",
    "        coefficients \n",
    "    alpha_: float\n",
    "        regularization parameter\n",
    "    lr_: float\n",
    "        the learning rate\n",
    "    bsize: integer\n",
    "        the size of the mini-batch >=1\n",
    "    coef_history_: list\n",
    "        the list of all visited betas\n",
    "    f_history_: list \n",
    "        the list of all evaluations in visited betas\n",
    "    \"\"\"\n",
    "    def __init__(self, alpha=0.2, theta=0.01):\n",
    "        self.coef_  = None\n",
    "        self.alpha_ = alpha\n",
    "        self.theta_ = theta\n",
    "        self.lr_     = None\n",
    "        self.bsize_  = None\n",
    "        self.coef_history_ = []\n",
    "        self.f_history_ = []\n",
    "\n",
    "    def logistic(self, z):\n",
    "        # logistic function\n",
    "        return(1/(1+np.exp(-z)))\n",
    "    def fit(self, X, y, lr=1.5e-06, bsize=25,  max_iter=10000):\n",
    "        \"\"\" Fit the data (X, y).\n",
    "    \n",
    "        Parameters:\n",
    "        -----------\n",
    "        X: (num_samples, num_features) np.array\n",
    "            Design matrix\n",
    "        y: (num_sampes, ) np.array\n",
    "            Output vector\n",
    "        \n",
    "        Note:\n",
    "        -----\n",
    "        Updates self.coef_\n",
    "        \"\"\"        \n",
    "        alpha=self.alpha_\n",
    "        w= np.random.rand(np.shape(X)[1],1)\n",
    "        w0=w\n",
    "        def f_lr(beta):\n",
    "            '''evaluate the Cost Function'''\n",
    "            return(np.sum(np.log(1+np.exp(-y*np.dot(X,beta))))+ 0.5* alpha* (np.linalg.norm(beta)**2))\n",
    "        def grad(X,y,w,bsize=bsize):\n",
    "            dw=0\n",
    "            for i in range (bsize):\n",
    "                ex=np.exp(-y[i]*np.dot(w.T,X[:,i]))\n",
    "                fi=-y[i]*ex/(1+ex)*X[:,i] \n",
    "                dw+=fi\n",
    "            dw=dw.reshape(w.shape)\n",
    "            dw+=w\n",
    "            return dw\n",
    "        for i in range(max_iter):\n",
    "            self.f_history_.append(f_lr(w))\n",
    "            for j in range( len(X)//bsize ):\n",
    "                self.coef_history_.append(w)\n",
    "                grad_F= grad((X.T[:,j*bsize: (j+1)*bsize]), Y[j*bsize: (j+1)*bsize],w)\n",
    "                w1=w- lr * grad_F + self.theta_* (w-w0)\n",
    "                w0=w\n",
    "                w=w1\n",
    "        self.coef_= w\n",
    "\n",
    "            \n",
    "         \n",
    "    def predict(self, X):\n",
    "        \"\"\" Make binary predictions for data X.\n",
    "    \n",
    "        Parameters:\n",
    "        -----------\n",
    "        X: (num_samples, num_features) np.array\n",
    "            Design matrix\n",
    "        \n",
    "        Returns:\n",
    "        -----\n",
    "        y_pred: (num_samples, ) np.array\n",
    "            Predictions (0 or 1)\n",
    "        \"\"\"\n",
    "        return(np.sign(np.dot(X,self.coef_)))"
   ]
  },
  {
   "cell_type": "code",
   "execution_count": 121,
   "metadata": {},
   "outputs": [
    {
     "name": "stdout",
     "output_type": "stream",
     "text": [
      "training accuracy 0.697391304347826\n",
      "testing accuracy 0.5885416666666666\n"
     ]
    },
    {
     "data": {
      "image/png": "[encoded data removed]",
      "text/plain": [
       "<Figure size 720x720 with 1 Axes>"
      ]
     },
     "metadata": {},
     "output_type": "display_data"
    }
   ],
   "source": [
    "model=MomentumLogisticRegression()\n",
    "max_iter=500\n",
    "model.fit(X,Y, max_iter=max_iter)\n",
    "model.predict(X)\n",
    "y_pred= model.predict(X)\n",
    "print('training accuracy',accuracy_score(Y, y_pred))\n",
    "y_pred= model.predict(diabetes_test_x)\n",
    "print('testing accuracy',accuracy_score(diabetes_test_y, y_pred))\n",
    "plt.figure(figsize=(10,10))\n",
    "x = np.arange(max_iter)\n",
    "y = model.f_history_\n",
    "plt.plot(x, y, label=\"batch size =25\")\n",
    "plt.xlabel(\"Number of Iteration\")\n",
    "plt.ylabel(\"Cost Function\")\n",
    "plt.show()"
   ]
  },
  {
   "cell_type": "markdown",
   "metadata": {},
   "source": [
    "The GD with Momentum converge very quickly and the cost function decrease constantly without oscillation. "
   ]
  },
  {
   "cell_type": "code",
   "execution_count": null,
   "metadata": {},
   "outputs": [],
   "source": []
  }
 ],
 "metadata": {
  "anaconda-cloud": {},
  "kernelspec": {
   "display_name": "Python 3",
   "language": "python",
   "name": "python3"
  },
  "language_info": {
   "codemirror_mode": {
    "name": "ipython",
    "version": 3
   },
   "file_extension": ".py",
   "mimetype": "text/x-python",
   "name": "python",
   "nbconvert_exporter": "python",
   "pygments_lexer": "ipython3",
   "version": "3.7.3"
  }
 },
 "nbformat": 4,
 "nbformat_minor": 2
}
